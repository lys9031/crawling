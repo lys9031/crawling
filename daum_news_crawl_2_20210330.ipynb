{
 "cells": [
  {
   "cell_type": "code",
   "execution_count": 1,
   "metadata": {},
   "outputs": [
    {
     "data": {
      "text/plain": [
       "'C:\\\\Users\\\\mc\\\\Desktop'"
      ]
     },
     "execution_count": 1,
     "metadata": {},
     "output_type": "execute_result"
    }
   ],
   "source": [
    "pwd"
   ]
  },
  {
   "cell_type": "code",
   "execution_count": 2,
   "metadata": {},
   "outputs": [],
   "source": [
    "# 라이브러리 import\n",
    "import pandas as pd\n",
    "import numpy as np\n",
    "\n",
    "from selenium import webdriver                        # 라이브러리(모듈) 가져오라\n",
    "from selenium.webdriver import ActionChains as AC     # 웹브라우저 동작\n",
    "from tqdm import tqdm\n",
    "from tqdm.notebook import tqdm\n",
    "import re # 지금 코드에 사용하지는 않음...\n",
    "from time import sleep\n",
    "import time"
   ]
  },
  {
   "cell_type": "code",
   "execution_count": 3,
   "metadata": {},
   "outputs": [
    {
     "data": {
      "text/plain": [
       "'SK텔레콤'"
      ]
     },
     "execution_count": 3,
     "metadata": {},
     "output_type": "execute_result"
    }
   ],
   "source": [
    "# 데이터 수집할 키워드 지정\n",
    "keyword = \"SK텔레콤\"\n",
    "keyword"
   ]
  },
  {
   "cell_type": "markdown",
   "metadata": {},
   "source": [
    "# 다음뉴스들 url 수집"
   ]
  },
  {
   "cell_type": "code",
   "execution_count": 4,
   "metadata": {},
   "outputs": [],
   "source": [
    "# 크롬창 띄우기\n",
    "driver = webdriver.Chrome(\"chromedriver.exe\")  # 맥 : /Users/aiden/Desktop/chromedriver\n",
    "driver.get(\"https://search.daum.net/search?w=news&nil_search=btn&DA=NTB&enc=utf8&cluster=y&cluster_page=1&q={}\".format(keyword))\n",
    "time.sleep(3) #문자 안에 변수를 넣고 싶을떼 넣고 싶은 위치에 {}를 쓰고 뒤에 .format(변수)를 넣어준다"
   ]
  },
  {
   "cell_type": "code",
   "execution_count": 5,
   "metadata": {},
   "outputs": [],
   "source": [
    "# page1에서 다음뉴스 url 수집하기\n",
    "things = driver.find_elements_by_link_text('다음뉴스')  \n",
    "\n",
    "url_list1 = []\n",
    "for thing in things:\n",
    "    url1 = thing.get_attribute('href')\n",
    "    url_list1.append(url1)\n",
    "    "
   ]
  },
  {
   "cell_type": "code",
   "execution_count": 6,
   "metadata": {},
   "outputs": [],
   "source": [
    "driver.find_element_by_link_text(\"2\").click( )"
   ]
  },
  {
   "cell_type": "code",
   "execution_count": 7,
   "metadata": {},
   "outputs": [],
   "source": [
    "# page1에서 다음뉴스 url 수집하기\n",
    "things = driver.find_elements_by_link_text('다음뉴스')  \n",
    "\n",
    "url_list2 = []\n",
    "for thing in things:\n",
    "    url2 = thing.get_attribute('href')\n",
    "    url_list2.append(url2)\n",
    "    "
   ]
  },
  {
   "cell_type": "code",
   "execution_count": 8,
   "metadata": {},
   "outputs": [
    {
     "name": "stdout",
     "output_type": "stream",
     "text": [
      "24\n"
     ]
    },
    {
     "data": {
      "text/plain": [
       "['http://v.media.daum.net/v/20210430144039263',\n",
       " 'http://v.media.daum.net/v/20210430093505411',\n",
       " 'http://v.media.daum.net/v/20210430082628689',\n",
       " 'http://v.media.daum.net/v/20210429101914284',\n",
       " 'http://v.media.daum.net/v/20210429144339853',\n",
       " 'http://v.media.daum.net/v/20210429091129534',\n",
       " 'http://v.media.daum.net/v/20210429135420404',\n",
       " 'http://v.media.daum.net/v/20210429140205821',\n",
       " 'http://v.media.daum.net/v/20210429082052508',\n",
       " 'http://v.media.daum.net/v/20210429082052507',\n",
       " 'http://v.media.daum.net/v/20210429103302072',\n",
       " 'http://v.media.daum.net/v/20210429161116989',\n",
       " 'http://v.media.daum.net/v/20210428163405690',\n",
       " 'http://v.media.daum.net/v/20210428101202047',\n",
       " 'http://v.media.daum.net/v/20210428092547732']"
      ]
     },
     "execution_count": 8,
     "metadata": {},
     "output_type": "execute_result"
    }
   ],
   "source": [
    "url_list = (url_list1+url_list2)\n",
    "print(len(url_list))\n",
    "url_list1"
   ]
  },
  {
   "cell_type": "code",
   "execution_count": 9,
   "metadata": {
    "scrolled": true
   },
   "outputs": [],
   "source": [
    "df = pd.DataFrame({\"url\":url_list})\n",
    "df.to_csv('daumnews_urls.csv')"
   ]
  },
  {
   "cell_type": "markdown",
   "metadata": {},
   "source": [
    "# 뉴스 별 댓글 수집"
   ]
  },
  {
   "cell_type": "code",
   "execution_count": 10,
   "metadata": {
    "scrolled": true
   },
   "outputs": [
    {
     "data": {
      "text/plain": [
       "0     http://v.media.daum.net/v/20210430144039263\n",
       "1     http://v.media.daum.net/v/20210430093505411\n",
       "2     http://v.media.daum.net/v/20210430082628689\n",
       "3     http://v.media.daum.net/v/20210429101914284\n",
       "4     http://v.media.daum.net/v/20210429144339853\n",
       "5     http://v.media.daum.net/v/20210429091129534\n",
       "6     http://v.media.daum.net/v/20210429135420404\n",
       "7     http://v.media.daum.net/v/20210429140205821\n",
       "8     http://v.media.daum.net/v/20210429082052508\n",
       "9     http://v.media.daum.net/v/20210429082052507\n",
       "10    http://v.media.daum.net/v/20210429103302072\n",
       "11    http://v.media.daum.net/v/20210429161116989\n",
       "12    http://v.media.daum.net/v/20210428163405690\n",
       "13    http://v.media.daum.net/v/20210428101202047\n",
       "14    http://v.media.daum.net/v/20210428092547732\n",
       "15    http://v.media.daum.net/v/20210428141101265\n",
       "16    http://v.media.daum.net/v/20210426155252639\n",
       "17    http://v.media.daum.net/v/20210426122705886\n",
       "18    http://v.media.daum.net/v/20210426082246320\n",
       "19    http://v.media.daum.net/v/20210424083005148\n",
       "20    http://v.media.daum.net/v/20210423140303959\n",
       "21    http://v.media.daum.net/v/20210423092601854\n",
       "22    http://v.media.daum.net/v/20210424200300883\n",
       "23    http://v.media.daum.net/v/20210427174914944\n",
       "Name: url, dtype: object"
      ]
     },
     "execution_count": 10,
     "metadata": {},
     "output_type": "execute_result"
    }
   ],
   "source": [
    "# 저장해둔 url 불러오기\n",
    "df = pd.read_csv('daumnews_urls.csv')\n",
    "df['url']"
   ]
  },
  {
   "cell_type": "code",
   "execution_count": 11,
   "metadata": {},
   "outputs": [
    {
     "data": {
      "text/plain": [
       "24"
      ]
     },
     "execution_count": 11,
     "metadata": {},
     "output_type": "execute_result"
    }
   ],
   "source": [
    "len(df['url'])"
   ]
  },
  {
   "cell_type": "code",
   "execution_count": 14,
   "metadata": {},
   "outputs": [],
   "source": [
    "# 뉴스 크롬창 띄우기\n",
    "driver = webdriver.Chrome(\"chromedriver.exe\")  # 맥 : /Users/aiden/Desktop/chromedriver\n",
    "driver.get(df['url'][22])"
   ]
  },
  {
   "cell_type": "markdown",
   "metadata": {},
   "source": [
    "## 기사 제목,날짜,추천수 수집"
   ]
  },
  {
   "cell_type": "code",
   "execution_count": 15,
   "metadata": {},
   "outputs": [
    {
     "name": "stdout",
     "output_type": "stream",
     "text": [
      "회사 쪼개는 SK텔레콤, 통신 넘어 비통신 빅테크로 거듭날까\n"
     ]
    }
   ],
   "source": [
    "# 기사 제목\n",
    "title = driver.find_element_by_css_selector('.tit_view')\n",
    "title = title.text\n",
    "print(title)"
   ]
  },
  {
   "cell_type": "code",
   "execution_count": 16,
   "metadata": {},
   "outputs": [
    {
     "name": "stdout",
     "output_type": "stream",
     "text": [
      "2021. 04. 24. 20:03\n"
     ]
    }
   ],
   "source": [
    "# 기사 날짜\n",
    "date = driver.find_element_by_css_selector('.num_date')\n",
    "date = date.text\n",
    "print(date)"
   ]
  },
  {
   "cell_type": "markdown",
   "metadata": {},
   "source": [
    "## 기사감정 수집(좋아요, 훈훈해요, 슬퍼요, 화나요)"
   ]
  },
  {
   "cell_type": "code",
   "execution_count": 17,
   "metadata": {
    "scrolled": true
   },
   "outputs": [
    {
     "name": "stdout",
     "output_type": "stream",
     "text": [
      "0\n",
      "1\n",
      "0\n"
     ]
    }
   ],
   "source": [
    "like = driver.find_element_by_css_selector(\".emotion_list .selectionbox.type-LIKE.unselected .count\")\n",
    "like = like.text\n",
    "print(like)\n",
    "\n",
    "angry = driver.find_element_by_css_selector(\".emotion_list .selectionbox.type-ANGRY.unselected .count\")\n",
    "angry = angry.text\n",
    "print(angry)\n",
    "\n",
    "sad = driver.find_element_by_css_selector(\".emotion_list .selectionbox.type-SAD.unselected .count\")\n",
    "sad = sad.text\n",
    "print(sad)\n"
   ]
  },
  {
   "cell_type": "markdown",
   "metadata": {},
   "source": [
    "## 댓글 수집"
   ]
  },
  {
   "cell_type": "code",
   "execution_count": 18,
   "metadata": {
    "scrolled": true
   },
   "outputs": [
    {
     "data": {
      "text/plain": [
       "1"
      ]
     },
     "execution_count": 18,
     "metadata": {},
     "output_type": "execute_result"
    }
   ],
   "source": [
    "# 기사 댓글 갯수 \n",
    "review_count = driver.find_element_by_css_selector(\".num_count\").text\n",
    "review_count = int(review_count.replace(',', ''))\n",
    "review_count"
   ]
  },
  {
   "cell_type": "code",
   "execution_count": 19,
   "metadata": {},
   "outputs": [
    {
     "data": {
      "text/plain": [
       "1"
      ]
     },
     "execution_count": 19,
     "metadata": {},
     "output_type": "execute_result"
    }
   ],
   "source": [
    "# 더보기 클릭 횟수\n",
    "moreview_num = review_count\n",
    "moreview_num"
   ]
  },
  {
   "cell_type": "code",
   "execution_count": 20,
   "metadata": {},
   "outputs": [
    {
     "data": {
      "application/vnd.jupyter.widget-view+json": {
       "model_id": "c841a2e44dd14373982740475a29c35b",
       "version_major": 2,
       "version_minor": 0
      },
      "text/plain": [
       "HBox(children=(HTML(value=''), FloatProgress(value=0.0, max=1.0), HTML(value='')))"
      ]
     },
     "metadata": {},
     "output_type": "display_data"
    },
    {
     "name": "stdout",
     "output_type": "stream",
     "text": [
      "\n",
      "1\n"
     ]
    },
    {
     "data": {
      "text/plain": [
       "['ICT 투자전문회사\\n최종적으로 SK지주랑 인수합병하는거겠지요?']"
      ]
     },
     "execution_count": 20,
     "metadata": {},
     "output_type": "execute_result"
    }
   ],
   "source": [
    "# review 수집하기\n",
    "review_list = []\n",
    "\n",
    "overlays1 = \".desc_txt\"\n",
    "reviews = driver.find_elements_by_css_selector(overlays1)\n",
    "\n",
    "for review in tqdm(reviews):    \n",
    "    review = review.text\n",
    "    review_list.append(review)\n",
    "\n",
    "print(len(review_list))\n",
    "review_list"
   ]
  },
  {
   "cell_type": "code",
   "execution_count": 21,
   "metadata": {},
   "outputs": [
    {
     "data": {
      "text/plain": [
       "{'기사명': '회사 쪼개는 SK텔레콤, 통신 넘어 비통신 빅테크로 거듭날까',\n",
       " '날짜': '2021. 04. 24. 20:03',\n",
       " '댓글': ['ICT 투자전문회사\\n최종적으로 SK지주랑 인수합병하는거겠지요?'],\n",
       " '좋아요': '0',\n",
       " '화나요': '1',\n",
       " '슬퍼요': '0'}"
      ]
     },
     "execution_count": 21,
     "metadata": {},
     "output_type": "execute_result"
    }
   ],
   "source": [
    "target_info = {}\n",
    "\n",
    "target_info['기사명'] = title\n",
    "target_info['날짜'] = date\n",
    "target_info['댓글'] = review_list\n",
    "target_info['좋아요'] = like\n",
    "target_info['화나요'] = angry\n",
    "target_info['슬퍼요'] = sad\n",
    "            \n",
    "target_info"
   ]
  },
  {
   "cell_type": "markdown",
   "metadata": {},
   "source": [
    "## 전체 기사 for문으로 데이터 수집하기"
   ]
  },
  {
   "cell_type": "code",
   "execution_count": 22,
   "metadata": {},
   "outputs": [
    {
     "data": {
      "text/plain": [
       "24"
      ]
     },
     "execution_count": 22,
     "metadata": {},
     "output_type": "execute_result"
    }
   ],
   "source": [
    "len(df['url'])"
   ]
  },
  {
   "cell_type": "code",
   "execution_count": 23,
   "metadata": {
    "scrolled": true
   },
   "outputs": [
    {
     "data": {
      "application/vnd.jupyter.widget-view+json": {
       "model_id": "6362f49d9be44d0fa35e9a565f6b3a3a",
       "version_major": 2,
       "version_minor": 0
      },
      "text/plain": [
       "HBox(children=(HTML(value=''), FloatProgress(value=0.0, max=24.0), HTML(value='')))"
      ]
     },
     "metadata": {},
     "output_type": "display_data"
    },
    {
     "data": {
      "application/vnd.jupyter.widget-view+json": {
       "model_id": "6a4e609f280740e1a276bdfa28e1ad09",
       "version_major": 2,
       "version_minor": 0
      },
      "text/plain": [
       "HBox(children=(HTML(value=''), FloatProgress(value=1.0, bar_style='info', layout=Layout(width='20px'), max=1.0…"
      ]
     },
     "metadata": {},
     "output_type": "display_data"
    },
    {
     "name": "stdout",
     "output_type": "stream",
     "text": [
      "\n",
      "SK텔레콤 '의료 AI' 개발 협약 ( 댓글 수: 0 )\n"
     ]
    },
    {
     "data": {
      "application/vnd.jupyter.widget-view+json": {
       "model_id": "507043ac1e4647bb8f233a24786d6798",
       "version_major": 2,
       "version_minor": 0
      },
      "text/plain": [
       "HBox(children=(HTML(value=''), FloatProgress(value=0.0, max=1.0), HTML(value='')))"
      ]
     },
     "metadata": {},
     "output_type": "display_data"
    },
    {
     "name": "stdout",
     "output_type": "stream",
     "text": [
      "\n",
      "SK텔레콤-가톨릭중앙의료원, AI 기반 의료 서비스 제공 ( 댓글 수: 1 )\n"
     ]
    },
    {
     "data": {
      "application/vnd.jupyter.widget-view+json": {
       "model_id": "9b6ca7d998f841bcb857025a5a51c1b9",
       "version_major": 2,
       "version_minor": 0
      },
      "text/plain": [
       "HBox(children=(HTML(value=''), FloatProgress(value=0.0, max=1.0), HTML(value='')))"
      ]
     },
     "metadata": {},
     "output_type": "display_data"
    },
    {
     "name": "stdout",
     "output_type": "stream",
     "text": [
      "\n",
      "SK텔레콤, 가톨릭중앙의료원과 의료 AI 솔루션 개발 협약 체결 ( 댓글 수: 1 )\n"
     ]
    },
    {
     "data": {
      "application/vnd.jupyter.widget-view+json": {
       "model_id": "f91e498c947d42de8a549fe3643e03f8",
       "version_major": 2,
       "version_minor": 0
      },
      "text/plain": [
       "HBox(children=(HTML(value=''), FloatProgress(value=0.0, max=1.0), HTML(value='')))"
      ]
     },
     "metadata": {},
     "output_type": "display_data"
    },
    {
     "name": "stdout",
     "output_type": "stream",
     "text": [
      "\n",
      "SK텔레콤 'K팝 메타버스 프로젝트' 추진 ( 댓글 수: 1 )\n"
     ]
    },
    {
     "data": {
      "application/vnd.jupyter.widget-view+json": {
       "model_id": "558ea563808742218b89ba50ca3a960c",
       "version_major": 2,
       "version_minor": 0
      },
      "text/plain": [
       "HBox(children=(HTML(value=''), FloatProgress(value=0.0, max=1.0), HTML(value='')))"
      ]
     },
     "metadata": {},
     "output_type": "display_data"
    },
    {
     "name": "stdout",
     "output_type": "stream",
     "text": [
      "\n",
      "SK텔레콤, 혼합현실 기술 활용 'K팝 메타버스 프로젝트' 시행 ( 댓글 수: 1 )\n"
     ]
    },
    {
     "data": {
      "application/vnd.jupyter.widget-view+json": {
       "model_id": "395bf91fdfe349db9544395612796857",
       "version_major": 2,
       "version_minor": 0
      },
      "text/plain": [
       "HBox(children=(HTML(value=''), FloatProgress(value=0.0, max=1.0), HTML(value='')))"
      ]
     },
     "metadata": {},
     "output_type": "display_data"
    },
    {
     "name": "stdout",
     "output_type": "stream",
     "text": [
      "\n",
      "SK텔레콤, 'K팝 메타버스 프로젝트' 시행 ( 댓글 수: 1 )\n"
     ]
    },
    {
     "data": {
      "application/vnd.jupyter.widget-view+json": {
       "model_id": "0c7db0d18c8544e0b8566feeedc438ff",
       "version_major": 2,
       "version_minor": 0
      },
      "text/plain": [
       "HBox(children=(HTML(value=''), FloatProgress(value=0.0, max=1.0), HTML(value='')))"
      ]
     },
     "metadata": {},
     "output_type": "display_data"
    },
    {
     "name": "stdout",
     "output_type": "stream",
     "text": [
      "\n",
      "둘로 쪼갠 SK텔레콤..새 이름 'SKT-SKT스퀘어?' [IT선빵!] ( 댓글 수: 1 )\n"
     ]
    },
    {
     "data": {
      "application/vnd.jupyter.widget-view+json": {
       "model_id": "b4a868200fc74edc96da8d093fb4df32",
       "version_major": 2,
       "version_minor": 0
      },
      "text/plain": [
       "HBox(children=(HTML(value=''), FloatProgress(value=0.0, max=1.0), HTML(value='')))"
      ]
     },
     "metadata": {},
     "output_type": "display_data"
    },
    {
     "name": "stdout",
     "output_type": "stream",
     "text": [
      "\n",
      "SK텔레콤, MS·SAP와 스타트업 지원 'ESG 얼라이언스' 결성 ( 댓글 수: 1 )\n"
     ]
    },
    {
     "data": {
      "application/vnd.jupyter.widget-view+json": {
       "model_id": "c3800e5b3d0941e78b4c7937f6373853",
       "version_major": 2,
       "version_minor": 0
      },
      "text/plain": [
       "HBox(children=(HTML(value=''), FloatProgress(value=0.0, max=1.0), HTML(value='')))"
      ]
     },
     "metadata": {},
     "output_type": "display_data"
    },
    {
     "name": "stdout",
     "output_type": "stream",
     "text": [
      "\n",
      "SK텔레콤, ESG 코리아 2021 얼라이언스 결성 ( 댓글 수: 1 )\n"
     ]
    },
    {
     "data": {
      "application/vnd.jupyter.widget-view+json": {
       "model_id": "dec64da7b84c47eabd89c11cde81cf23",
       "version_major": 2,
       "version_minor": 0
      },
      "text/plain": [
       "HBox(children=(HTML(value=''), FloatProgress(value=1.0, bar_style='info', layout=Layout(width='20px'), max=1.0…"
      ]
     },
     "metadata": {},
     "output_type": "display_data"
    },
    {
     "name": "stdout",
     "output_type": "stream",
     "text": [
      "\n",
      "SK텔레콤, ESG 관련 스타트업 성장 지원하는 글로벌 얼라이언스 결성 ( 댓글 수: 0 )\n"
     ]
    },
    {
     "data": {
      "application/vnd.jupyter.widget-view+json": {
       "model_id": "75904ecae9f84b28b365e801dbddfab5",
       "version_major": 2,
       "version_minor": 0
      },
      "text/plain": [
       "HBox(children=(HTML(value=''), FloatProgress(value=0.0, max=1.0), HTML(value='')))"
      ]
     },
     "metadata": {},
     "output_type": "display_data"
    },
    {
     "name": "stdout",
     "output_type": "stream",
     "text": [
      "\n",
      "SK텔레콤, 5G·AI 기반 드론 관제 솔루션 선보여 ( 댓글 수: 1 )\n"
     ]
    },
    {
     "data": {
      "application/vnd.jupyter.widget-view+json": {
       "model_id": "7d33c55692a24ed68bd4bb2ef2f6b06a",
       "version_major": 2,
       "version_minor": 0
      },
      "text/plain": [
       "HBox(children=(HTML(value=''), FloatProgress(value=0.0, max=1.0), HTML(value='')))"
      ]
     },
     "metadata": {},
     "output_type": "display_data"
    },
    {
     "name": "stdout",
     "output_type": "stream",
     "text": [
      "\n",
      "SK텔레콤, 2021 드론 쇼 코리아 참가..5G 기반 드론 관제 솔루션 선보여 ( 댓글 수: 1 )\n"
     ]
    },
    {
     "data": {
      "application/vnd.jupyter.widget-view+json": {
       "model_id": "da6ca71425b24626bc20f693b00e3ce8",
       "version_major": 2,
       "version_minor": 0
      },
      "text/plain": [
       "HBox(children=(HTML(value=''), FloatProgress(value=0.0, max=1.0), HTML(value='')))"
      ]
     },
     "metadata": {},
     "output_type": "display_data"
    },
    {
     "name": "stdout",
     "output_type": "stream",
     "text": [
      "\n",
      "SK텔레콤, '앱없이 음식 배달주문' 서비스 출범 ( 댓글 수: 1 )\n"
     ]
    },
    {
     "data": {
      "application/vnd.jupyter.widget-view+json": {
       "model_id": "60a41c3188ae47f1863e98045a2f6a1f",
       "version_major": 2,
       "version_minor": 0
      },
      "text/plain": [
       "HBox(children=(HTML(value=''), FloatProgress(value=1.0, bar_style='info', layout=Layout(width='20px'), max=1.0…"
      ]
     },
     "metadata": {},
     "output_type": "display_data"
    },
    {
     "name": "stdout",
     "output_type": "stream",
     "text": [
      "\n",
      "SK텔레콤 '다이얼링크'로 음식 주문·배달..\"소상공인 지원\" ( 댓글 수: 0 )\n"
     ]
    },
    {
     "data": {
      "application/vnd.jupyter.widget-view+json": {
       "model_id": "20d5dc608e6742e3b84b899f497a0518",
       "version_major": 2,
       "version_minor": 0
      },
      "text/plain": [
       "HBox(children=(HTML(value=''), FloatProgress(value=1.0, bar_style='info', layout=Layout(width='20px'), max=1.0…"
      ]
     },
     "metadata": {},
     "output_type": "display_data"
    },
    {
     "name": "stdout",
     "output_type": "stream",
     "text": [
      "\n",
      "SK텔레콤-KIS정보통신, 다이얼링크 기반 주문·배달 서비스 MOU ( 댓글 수: 0 )\n"
     ]
    },
    {
     "data": {
      "application/vnd.jupyter.widget-view+json": {
       "model_id": "adcd646934ae4da997a60cfce941369d",
       "version_major": 2,
       "version_minor": 0
      },
      "text/plain": [
       "HBox(children=(HTML(value=''), FloatProgress(value=0.0, max=1.0), HTML(value='')))"
      ]
     },
     "metadata": {},
     "output_type": "display_data"
    },
    {
     "name": "stdout",
     "output_type": "stream",
     "text": [
      "\n",
      "SK텔레콤 소상공인 돕기 MOU ( 댓글 수: 1 )\n"
     ]
    },
    {
     "data": {
      "application/vnd.jupyter.widget-view+json": {
       "model_id": "bda37792b9ae4a3d9ae9f35cab3f1cf7",
       "version_major": 2,
       "version_minor": 0
      },
      "text/plain": [
       "HBox(children=(HTML(value=''), FloatProgress(value=1.0, bar_style='info', layout=Layout(width='20px'), max=1.0…"
      ]
     },
     "metadata": {},
     "output_type": "display_data"
    },
    {
     "name": "stdout",
     "output_type": "stream",
     "text": [
      "\n",
      "SK텔레콤, ICT 체험관 '티움' 온택트 투어 선보여 ( 댓글 수: 0 )\n"
     ]
    },
    {
     "data": {
      "application/vnd.jupyter.widget-view+json": {
       "model_id": "dc3f2396bd384237a4c5e31e9cea211d",
       "version_major": 2,
       "version_minor": 0
      },
      "text/plain": [
       "HBox(children=(HTML(value=''), FloatProgress(value=0.0, max=1.0), HTML(value='')))"
      ]
     },
     "metadata": {},
     "output_type": "display_data"
    },
    {
     "name": "stdout",
     "output_type": "stream",
     "text": [
      "\n",
      "SK텔레콤, ICT 체험관 '티움' 온택트 투어 제공 ( 댓글 수: 1 )\n"
     ]
    },
    {
     "data": {
      "application/vnd.jupyter.widget-view+json": {
       "model_id": "52e8022c3dd1475b86bff962c01f99bb",
       "version_major": 2,
       "version_minor": 0
      },
      "text/plain": [
       "HBox(children=(HTML(value=''), FloatProgress(value=0.0, max=1.0), HTML(value='')))"
      ]
     },
     "metadata": {},
     "output_type": "display_data"
    },
    {
     "name": "stdout",
     "output_type": "stream",
     "text": [
      "\n",
      "SK텔레콤, 온택트 투어 프로그램 '티움 유튜브 라이브 투어' ( 댓글 수: 1 )\n"
     ]
    },
    {
     "data": {
      "application/vnd.jupyter.widget-view+json": {
       "model_id": "97b7457b221d4ce3b773a3702b3671e8",
       "version_major": 2,
       "version_minor": 0
      },
      "text/plain": [
       "HBox(children=(HTML(value=''), FloatProgress(value=1.0, bar_style='info', layout=Layout(width='20px'), max=1.0…"
      ]
     },
     "metadata": {},
     "output_type": "display_data"
    },
    {
     "name": "stdout",
     "output_type": "stream",
     "text": [
      "\n",
      "SK텔레콤 자사주 향방, 소각은 非합병 제스처? ( 댓글 수: 0 )\n"
     ]
    },
    {
     "data": {
      "application/vnd.jupyter.widget-view+json": {
       "model_id": "dd4996792803487a81e93732a17f5fc7",
       "version_major": 2,
       "version_minor": 0
      },
      "text/plain": [
       "HBox(children=(HTML(value=''), FloatProgress(value=1.0, bar_style='info', layout=Layout(width='20px'), max=1.0…"
      ]
     },
     "metadata": {},
     "output_type": "display_data"
    },
    {
     "name": "stdout",
     "output_type": "stream",
     "text": [
      "\n",
      "SK텔레콤 '퀀텀 키퍼' 시즌2 진행 ( 댓글 수: 0 )\n"
     ]
    },
    {
     "data": {
      "application/vnd.jupyter.widget-view+json": {
       "model_id": "2dd6bd8e58f84a099b666885af8d10f5",
       "version_major": 2,
       "version_minor": 0
      },
      "text/plain": [
       "HBox(children=(HTML(value=''), FloatProgress(value=0.0, max=1.0), HTML(value='')))"
      ]
     },
     "metadata": {},
     "output_type": "display_data"
    },
    {
     "name": "stdout",
     "output_type": "stream",
     "text": [
      "\n",
      "SK텔레콤, 양자 보안 기술 쉽게 알리는 '퀀텀 키퍼' 시즌2 진행 ( 댓글 수: 1 )\n"
     ]
    },
    {
     "data": {
      "application/vnd.jupyter.widget-view+json": {
       "model_id": "40fa66b464044138bd92ac288b7acf09",
       "version_major": 2,
       "version_minor": 0
      },
      "text/plain": [
       "HBox(children=(HTML(value=''), FloatProgress(value=0.0, max=1.0), HTML(value='')))"
      ]
     },
     "metadata": {},
     "output_type": "display_data"
    },
    {
     "name": "stdout",
     "output_type": "stream",
     "text": [
      "\n",
      "회사 쪼개는 SK텔레콤, 통신 넘어 비통신 빅테크로 거듭날까 ( 댓글 수: 1 )\n"
     ]
    },
    {
     "data": {
      "application/vnd.jupyter.widget-view+json": {
       "model_id": "1346dafe5a5c4d52bfe3468788362a4e",
       "version_major": 2,
       "version_minor": 0
      },
      "text/plain": [
       "HBox(children=(HTML(value=''), FloatProgress(value=0.0, max=1.0), HTML(value='')))"
      ]
     },
     "metadata": {},
     "output_type": "display_data"
    },
    {
     "name": "stdout",
     "output_type": "stream",
     "text": [
      "\n",
      "'탈(脫)네이버' 전략 검토하는 SK텔레콤..이베이 인수전 3社3色 ( 댓글 수: 1 )\n",
      "\n",
      "24\n"
     ]
    },
    {
     "data": {
      "text/plain": [
       "{0: {'기사명': \"SK텔레콤 '의료 AI' 개발 협약\",\n",
       "  '날짜': '2021. 04. 30. 14:40',\n",
       "  '좋아요': '0',\n",
       "  '화나요': '0',\n",
       "  '슬퍼요': '0',\n",
       "  '댓글 수': 0,\n",
       "  '댓글': []},\n",
       " 1: {'기사명': 'SK텔레콤-가톨릭중앙의료원, AI 기반 의료 서비스 제공',\n",
       "  '날짜': '2021. 04. 30. 09:35',\n",
       "  '좋아요': '0',\n",
       "  '화나요': '0',\n",
       "  '슬퍼요': '1',\n",
       "  '댓글 수': 1,\n",
       "  '댓글': ['ㅇ']},\n",
       " 2: {'기사명': 'SK텔레콤, 가톨릭중앙의료원과 의료 AI 솔루션 개발 협약 체결',\n",
       "  '날짜': '2021. 04. 30. 08:26',\n",
       "  '좋아요': '0',\n",
       "  '화나요': '1',\n",
       "  '슬퍼요': '0',\n",
       "  '댓글 수': 1,\n",
       "  '댓글': ['dd']},\n",
       " 3: {'기사명': \"SK텔레콤 'K팝 메타버스 프로젝트' 추진\",\n",
       "  '날짜': '2021. 04. 29. 10:19',\n",
       "  '좋아요': '0',\n",
       "  '화나요': '1',\n",
       "  '슬퍼요': '0',\n",
       "  '댓글 수': 1,\n",
       "  '댓글': ['ㅇㅇ']},\n",
       " 4: {'기사명': \"SK텔레콤, 혼합현실 기술 활용 'K팝 메타버스 프로젝트' 시행\",\n",
       "  '날짜': '2021. 04. 29. 14:43',\n",
       "  '좋아요': '0',\n",
       "  '화나요': '1',\n",
       "  '슬퍼요': '0',\n",
       "  '댓글 수': 1,\n",
       "  '댓글': ['ddddd']},\n",
       " 5: {'기사명': \"SK텔레콤, 'K팝 메타버스 프로젝트' 시행\",\n",
       "  '날짜': '2021. 04. 29. 09:11',\n",
       "  '좋아요': '1',\n",
       "  '화나요': '0',\n",
       "  '슬퍼요': '0',\n",
       "  '댓글 수': 1,\n",
       "  '댓글': ['dddddd']},\n",
       " 6: {'기사명': \"둘로 쪼갠 SK텔레콤..새 이름 'SKT-SKT스퀘어?' [IT선빵!]\",\n",
       "  '날짜': '2021. 04. 29. 13:54',\n",
       "  '좋아요': '0',\n",
       "  '화나요': '1',\n",
       "  '슬퍼요': '0',\n",
       "  '댓글 수': 1,\n",
       "  '댓글': ['ㅇㅇ']},\n",
       " 7: {'기사명': \"SK텔레콤, MS·SAP와 스타트업 지원 'ESG 얼라이언스' 결성\",\n",
       "  '날짜': '2021. 04. 29. 14:02',\n",
       "  '좋아요': '1',\n",
       "  '화나요': '0',\n",
       "  '슬퍼요': '0',\n",
       "  '댓글 수': 1,\n",
       "  '댓글': ['ㅇㅇㅇ']},\n",
       " 8: {'기사명': 'SK텔레콤, ESG 코리아 2021 얼라이언스 결성',\n",
       "  '날짜': '2021. 04. 29. 08:20',\n",
       "  '좋아요': '0',\n",
       "  '화나요': '0',\n",
       "  '슬퍼요': '1',\n",
       "  '댓글 수': 1,\n",
       "  '댓글': ['asdasd']},\n",
       " 9: {'기사명': 'SK텔레콤, ESG 관련 스타트업 성장 지원하는 글로벌 얼라이언스 결성',\n",
       "  '날짜': '2021. 04. 29. 08:20',\n",
       "  '좋아요': '0',\n",
       "  '화나요': '1',\n",
       "  '슬퍼요': '0',\n",
       "  '댓글 수': 0,\n",
       "  '댓글': []},\n",
       " 10: {'기사명': 'SK텔레콤, 5G·AI 기반 드론 관제 솔루션 선보여',\n",
       "  '날짜': '2021. 04. 29. 10:33',\n",
       "  '좋아요': '0',\n",
       "  '화나요': '0',\n",
       "  '슬퍼요': '1',\n",
       "  '댓글 수': 1,\n",
       "  '댓글': ['ㅇㅇㅇㅇ']},\n",
       " 11: {'기사명': 'SK텔레콤, 2021 드론 쇼 코리아 참가..5G 기반 드론 관제 솔루션 선보여',\n",
       "  '날짜': '2021. 04. 29. 16:11',\n",
       "  '좋아요': '0',\n",
       "  '화나요': '0',\n",
       "  '슬퍼요': '1',\n",
       "  '댓글 수': 1,\n",
       "  '댓글': ['ㅇㅇㅇㅇㅇ']},\n",
       " 12: {'기사명': \"SK텔레콤, '앱없이 음식 배달주문' 서비스 출범\",\n",
       "  '날짜': '2021. 04. 28. 16:34',\n",
       "  '좋아요': '0',\n",
       "  '화나요': '1',\n",
       "  '슬퍼요': '0',\n",
       "  '댓글 수': 1,\n",
       "  '댓글': ['ddddd']},\n",
       " 13: {'기사명': 'SK텔레콤 \\'다이얼링크\\'로 음식 주문·배달..\"소상공인 지원\"',\n",
       "  '날짜': '2021. 04. 28. 10:12',\n",
       "  '좋아요': '1',\n",
       "  '화나요': '0',\n",
       "  '슬퍼요': '0',\n",
       "  '댓글 수': 0,\n",
       "  '댓글': []},\n",
       " 14: {'기사명': 'SK텔레콤-KIS정보통신, 다이얼링크 기반 주문·배달 서비스 MOU',\n",
       "  '날짜': '2021. 04. 28. 09:25',\n",
       "  '좋아요': '1',\n",
       "  '화나요': '0',\n",
       "  '슬퍼요': '0',\n",
       "  '댓글 수': 0,\n",
       "  '댓글': []},\n",
       " 15: {'기사명': 'SK텔레콤 소상공인 돕기 MOU',\n",
       "  '날짜': '2021. 04. 28. 14:11',\n",
       "  '좋아요': '1',\n",
       "  '화나요': '0',\n",
       "  '슬퍼요': '0',\n",
       "  '댓글 수': 1,\n",
       "  '댓글': ['ㅇㅇㅇㅇㅇㅇ']},\n",
       " 16: {'기사명': \"SK텔레콤, ICT 체험관 '티움' 온택트 투어 선보여\",\n",
       "  '날짜': '2021. 04. 26. 15:52',\n",
       "  '좋아요': '0',\n",
       "  '화나요': '1',\n",
       "  '슬퍼요': '0',\n",
       "  '댓글 수': 0,\n",
       "  '댓글': []},\n",
       " 17: {'기사명': \"SK텔레콤, ICT 체험관 '티움' 온택트 투어 제공\",\n",
       "  '날짜': '2021. 04. 26. 12:27',\n",
       "  '좋아요': '0',\n",
       "  '화나요': '0',\n",
       "  '슬퍼요': '1',\n",
       "  '댓글 수': 1,\n",
       "  '댓글': ['ㅇㅇㅇㅇㅇㅇ']},\n",
       " 18: {'기사명': \"SK텔레콤, 온택트 투어 프로그램 '티움 유튜브 라이브 투어'\",\n",
       "  '날짜': '2021. 04. 26. 08:22',\n",
       "  '좋아요': '0',\n",
       "  '화나요': '0',\n",
       "  '슬퍼요': '1',\n",
       "  '댓글 수': 1,\n",
       "  '댓글': ['아아아아']},\n",
       " 19: {'기사명': 'SK텔레콤 자사주 향방, 소각은 非합병 제스처?',\n",
       "  '날짜': '2021. 04. 24. 08:30',\n",
       "  '좋아요': '0',\n",
       "  '화나요': '1',\n",
       "  '슬퍼요': '0',\n",
       "  '댓글 수': 0,\n",
       "  '댓글': []},\n",
       " 20: {'기사명': \"SK텔레콤 '퀀텀 키퍼' 시즌2 진행\",\n",
       "  '날짜': '2021. 04. 23. 14:03',\n",
       "  '좋아요': '1',\n",
       "  '화나요': '0',\n",
       "  '슬퍼요': '0',\n",
       "  '댓글 수': 0,\n",
       "  '댓글': []},\n",
       " 21: {'기사명': \"SK텔레콤, 양자 보안 기술 쉽게 알리는 '퀀텀 키퍼' 시즌2 진행\",\n",
       "  '날짜': '2021. 04. 23. 09:26',\n",
       "  '좋아요': '0',\n",
       "  '화나요': '1',\n",
       "  '슬퍼요': '0',\n",
       "  '댓글 수': 1,\n",
       "  '댓글': ['ㅇㅇㅇㅇ']},\n",
       " 22: {'기사명': '회사 쪼개는 SK텔레콤, 통신 넘어 비통신 빅테크로 거듭날까',\n",
       "  '날짜': '2021. 04. 24. 20:03',\n",
       "  '좋아요': '1',\n",
       "  '화나요': '0',\n",
       "  '슬퍼요': '0',\n",
       "  '댓글 수': 1,\n",
       "  '댓글': ['ICT 투자전문회사\\n최종적으로 SK지주랑 인수합병하는거겠지요?']},\n",
       " 23: {'기사명': \"'탈(脫)네이버' 전략 검토하는 SK텔레콤..이베이 인수전 3社3色\",\n",
       "  '날짜': '2021. 04. 27. 17:49',\n",
       "  '좋아요': '0',\n",
       "  '화나요': '1',\n",
       "  '슬퍼요': '0',\n",
       "  '댓글 수': 1,\n",
       "  '댓글': ['ㅁㄴㅇㅁㄴㅇ']}}"
      ]
     },
     "execution_count": 23,
     "metadata": {},
     "output_type": "execute_result"
    }
   ],
   "source": [
    "dict = {}\n",
    "\n",
    "# 페이지당 기사 수집\n",
    "for i in tqdm(range(0, 24)):   # len(df['url'])\n",
    "    try:\n",
    "        # 뉴스 크롬창 띄우기\n",
    "        driver = webdriver.Chrome(\"chromedriver.exe\")  # 맥 : /Users/aiden/Desktop/chromedriver\n",
    "        driver.get(df['url'][i])\n",
    "        time.sleep(1)\n",
    "\n",
    "        # 기사 데이터 수집\n",
    "        title = driver.find_element_by_css_selector('.tit_view').text\n",
    "        date = driver.find_element_by_css_selector('.num_date').text\n",
    "        angry = driver.find_element_by_css_selector(\".emotion_list .selectionbox.type-LIKE.unselected .count\").text\n",
    "        like = driver.find_element_by_css_selector(\".emotion_list .selectionbox.type-ANGRY.unselected .count\").text\n",
    "        sad = driver.find_element_by_css_selector(\".emotion_list .selectionbox.type-SAD.unselected .count\").text\n",
    "        \n",
    "        # 기사 댓글 갯수 \n",
    "        review_count = int(driver.find_element_by_css_selector(\".num_count\").text.replace(',', ''))\n",
    "\n",
    "        # review 수집하기\n",
    "        review_list = []\n",
    "        overlays1 = \".desc_txt\"\n",
    "        reviews = driver.find_elements_by_css_selector(overlays1)\n",
    "        for review in tqdm(reviews):    \n",
    "            review = review.text\n",
    "            review_list.append(review)\n",
    "\n",
    "        target_info = {}\n",
    "        target_info['기사명'] = title\n",
    "        target_info['날짜'] = date\n",
    "        target_info['좋아요'] = like\n",
    "        target_info['화나요'] = angry\n",
    "        target_info['슬퍼요'] = sad\n",
    "        target_info['댓글 수'] = len(review_list)\n",
    "        target_info['댓글'] = review_list\n",
    "\n",
    "        dict[i] = target_info\n",
    "        \n",
    "        print(title, '( 댓글 수:', len(review_list),')')\n",
    "\n",
    "        driver.close()\n",
    "        time.sleep(1)\n",
    "        \n",
    "    except:\n",
    "        driver.close()\n",
    "        continue\n",
    "\n",
    "print(len(dict))\n",
    "dict"
   ]
  },
  {
   "cell_type": "code",
   "execution_count": 24,
   "metadata": {},
   "outputs": [
    {
     "data": {
      "text/html": [
       "<div>\n",
       "<style scoped>\n",
       "    .dataframe tbody tr th:only-of-type {\n",
       "        vertical-align: middle;\n",
       "    }\n",
       "\n",
       "    .dataframe tbody tr th {\n",
       "        vertical-align: top;\n",
       "    }\n",
       "\n",
       "    .dataframe thead th {\n",
       "        text-align: right;\n",
       "    }\n",
       "</style>\n",
       "<table border=\"1\" class=\"dataframe\">\n",
       "  <thead>\n",
       "    <tr style=\"text-align: right;\">\n",
       "      <th></th>\n",
       "      <th>기사명</th>\n",
       "      <th>날짜</th>\n",
       "      <th>좋아요</th>\n",
       "      <th>화나요</th>\n",
       "      <th>슬퍼요</th>\n",
       "      <th>댓글 수</th>\n",
       "      <th>댓글</th>\n",
       "    </tr>\n",
       "  </thead>\n",
       "  <tbody>\n",
       "    <tr>\n",
       "      <th>0</th>\n",
       "      <td>SK텔레콤 '의료 AI' 개발 협약</td>\n",
       "      <td>2021. 04. 30. 14:40</td>\n",
       "      <td>0</td>\n",
       "      <td>0</td>\n",
       "      <td>0</td>\n",
       "      <td>0</td>\n",
       "      <td>[]</td>\n",
       "    </tr>\n",
       "    <tr>\n",
       "      <th>1</th>\n",
       "      <td>SK텔레콤-가톨릭중앙의료원, AI 기반 의료 서비스 제공</td>\n",
       "      <td>2021. 04. 30. 09:35</td>\n",
       "      <td>0</td>\n",
       "      <td>0</td>\n",
       "      <td>1</td>\n",
       "      <td>1</td>\n",
       "      <td>[ㅇ]</td>\n",
       "    </tr>\n",
       "    <tr>\n",
       "      <th>2</th>\n",
       "      <td>SK텔레콤, 가톨릭중앙의료원과 의료 AI 솔루션 개발 협약 체결</td>\n",
       "      <td>2021. 04. 30. 08:26</td>\n",
       "      <td>0</td>\n",
       "      <td>1</td>\n",
       "      <td>0</td>\n",
       "      <td>1</td>\n",
       "      <td>[dd]</td>\n",
       "    </tr>\n",
       "    <tr>\n",
       "      <th>3</th>\n",
       "      <td>SK텔레콤 'K팝 메타버스 프로젝트' 추진</td>\n",
       "      <td>2021. 04. 29. 10:19</td>\n",
       "      <td>0</td>\n",
       "      <td>1</td>\n",
       "      <td>0</td>\n",
       "      <td>1</td>\n",
       "      <td>[ㅇㅇ]</td>\n",
       "    </tr>\n",
       "    <tr>\n",
       "      <th>4</th>\n",
       "      <td>SK텔레콤, 혼합현실 기술 활용 'K팝 메타버스 프로젝트' 시행</td>\n",
       "      <td>2021. 04. 29. 14:43</td>\n",
       "      <td>0</td>\n",
       "      <td>1</td>\n",
       "      <td>0</td>\n",
       "      <td>1</td>\n",
       "      <td>[ddddd]</td>\n",
       "    </tr>\n",
       "    <tr>\n",
       "      <th>5</th>\n",
       "      <td>SK텔레콤, 'K팝 메타버스 프로젝트' 시행</td>\n",
       "      <td>2021. 04. 29. 09:11</td>\n",
       "      <td>1</td>\n",
       "      <td>0</td>\n",
       "      <td>0</td>\n",
       "      <td>1</td>\n",
       "      <td>[dddddd]</td>\n",
       "    </tr>\n",
       "    <tr>\n",
       "      <th>6</th>\n",
       "      <td>둘로 쪼갠 SK텔레콤..새 이름 'SKT-SKT스퀘어?' [IT선빵!]</td>\n",
       "      <td>2021. 04. 29. 13:54</td>\n",
       "      <td>0</td>\n",
       "      <td>1</td>\n",
       "      <td>0</td>\n",
       "      <td>1</td>\n",
       "      <td>[ㅇㅇ]</td>\n",
       "    </tr>\n",
       "    <tr>\n",
       "      <th>7</th>\n",
       "      <td>SK텔레콤, MS·SAP와 스타트업 지원 'ESG 얼라이언스' 결성</td>\n",
       "      <td>2021. 04. 29. 14:02</td>\n",
       "      <td>1</td>\n",
       "      <td>0</td>\n",
       "      <td>0</td>\n",
       "      <td>1</td>\n",
       "      <td>[ㅇㅇㅇ]</td>\n",
       "    </tr>\n",
       "    <tr>\n",
       "      <th>8</th>\n",
       "      <td>SK텔레콤, ESG 코리아 2021 얼라이언스 결성</td>\n",
       "      <td>2021. 04. 29. 08:20</td>\n",
       "      <td>0</td>\n",
       "      <td>0</td>\n",
       "      <td>1</td>\n",
       "      <td>1</td>\n",
       "      <td>[asdasd]</td>\n",
       "    </tr>\n",
       "    <tr>\n",
       "      <th>9</th>\n",
       "      <td>SK텔레콤, ESG 관련 스타트업 성장 지원하는 글로벌 얼라이언스 결성</td>\n",
       "      <td>2021. 04. 29. 08:20</td>\n",
       "      <td>0</td>\n",
       "      <td>1</td>\n",
       "      <td>0</td>\n",
       "      <td>0</td>\n",
       "      <td>[]</td>\n",
       "    </tr>\n",
       "    <tr>\n",
       "      <th>10</th>\n",
       "      <td>SK텔레콤, 5G·AI 기반 드론 관제 솔루션 선보여</td>\n",
       "      <td>2021. 04. 29. 10:33</td>\n",
       "      <td>0</td>\n",
       "      <td>0</td>\n",
       "      <td>1</td>\n",
       "      <td>1</td>\n",
       "      <td>[ㅇㅇㅇㅇ]</td>\n",
       "    </tr>\n",
       "    <tr>\n",
       "      <th>11</th>\n",
       "      <td>SK텔레콤, 2021 드론 쇼 코리아 참가..5G 기반 드론 관제 솔루션 선보여</td>\n",
       "      <td>2021. 04. 29. 16:11</td>\n",
       "      <td>0</td>\n",
       "      <td>0</td>\n",
       "      <td>1</td>\n",
       "      <td>1</td>\n",
       "      <td>[ㅇㅇㅇㅇㅇ]</td>\n",
       "    </tr>\n",
       "    <tr>\n",
       "      <th>12</th>\n",
       "      <td>SK텔레콤, '앱없이 음식 배달주문' 서비스 출범</td>\n",
       "      <td>2021. 04. 28. 16:34</td>\n",
       "      <td>0</td>\n",
       "      <td>1</td>\n",
       "      <td>0</td>\n",
       "      <td>1</td>\n",
       "      <td>[ddddd]</td>\n",
       "    </tr>\n",
       "    <tr>\n",
       "      <th>13</th>\n",
       "      <td>SK텔레콤 '다이얼링크'로 음식 주문·배달..\"소상공인 지원\"</td>\n",
       "      <td>2021. 04. 28. 10:12</td>\n",
       "      <td>1</td>\n",
       "      <td>0</td>\n",
       "      <td>0</td>\n",
       "      <td>0</td>\n",
       "      <td>[]</td>\n",
       "    </tr>\n",
       "    <tr>\n",
       "      <th>14</th>\n",
       "      <td>SK텔레콤-KIS정보통신, 다이얼링크 기반 주문·배달 서비스 MOU</td>\n",
       "      <td>2021. 04. 28. 09:25</td>\n",
       "      <td>1</td>\n",
       "      <td>0</td>\n",
       "      <td>0</td>\n",
       "      <td>0</td>\n",
       "      <td>[]</td>\n",
       "    </tr>\n",
       "    <tr>\n",
       "      <th>15</th>\n",
       "      <td>SK텔레콤 소상공인 돕기 MOU</td>\n",
       "      <td>2021. 04. 28. 14:11</td>\n",
       "      <td>1</td>\n",
       "      <td>0</td>\n",
       "      <td>0</td>\n",
       "      <td>1</td>\n",
       "      <td>[ㅇㅇㅇㅇㅇㅇ]</td>\n",
       "    </tr>\n",
       "    <tr>\n",
       "      <th>16</th>\n",
       "      <td>SK텔레콤, ICT 체험관 '티움' 온택트 투어 선보여</td>\n",
       "      <td>2021. 04. 26. 15:52</td>\n",
       "      <td>0</td>\n",
       "      <td>1</td>\n",
       "      <td>0</td>\n",
       "      <td>0</td>\n",
       "      <td>[]</td>\n",
       "    </tr>\n",
       "    <tr>\n",
       "      <th>17</th>\n",
       "      <td>SK텔레콤, ICT 체험관 '티움' 온택트 투어 제공</td>\n",
       "      <td>2021. 04. 26. 12:27</td>\n",
       "      <td>0</td>\n",
       "      <td>0</td>\n",
       "      <td>1</td>\n",
       "      <td>1</td>\n",
       "      <td>[ㅇㅇㅇㅇㅇㅇ]</td>\n",
       "    </tr>\n",
       "    <tr>\n",
       "      <th>18</th>\n",
       "      <td>SK텔레콤, 온택트 투어 프로그램 '티움 유튜브 라이브 투어'</td>\n",
       "      <td>2021. 04. 26. 08:22</td>\n",
       "      <td>0</td>\n",
       "      <td>0</td>\n",
       "      <td>1</td>\n",
       "      <td>1</td>\n",
       "      <td>[아아아아]</td>\n",
       "    </tr>\n",
       "    <tr>\n",
       "      <th>19</th>\n",
       "      <td>SK텔레콤 자사주 향방, 소각은 非합병 제스처?</td>\n",
       "      <td>2021. 04. 24. 08:30</td>\n",
       "      <td>0</td>\n",
       "      <td>1</td>\n",
       "      <td>0</td>\n",
       "      <td>0</td>\n",
       "      <td>[]</td>\n",
       "    </tr>\n",
       "    <tr>\n",
       "      <th>20</th>\n",
       "      <td>SK텔레콤 '퀀텀 키퍼' 시즌2 진행</td>\n",
       "      <td>2021. 04. 23. 14:03</td>\n",
       "      <td>1</td>\n",
       "      <td>0</td>\n",
       "      <td>0</td>\n",
       "      <td>0</td>\n",
       "      <td>[]</td>\n",
       "    </tr>\n",
       "    <tr>\n",
       "      <th>21</th>\n",
       "      <td>SK텔레콤, 양자 보안 기술 쉽게 알리는 '퀀텀 키퍼' 시즌2 진행</td>\n",
       "      <td>2021. 04. 23. 09:26</td>\n",
       "      <td>0</td>\n",
       "      <td>1</td>\n",
       "      <td>0</td>\n",
       "      <td>1</td>\n",
       "      <td>[ㅇㅇㅇㅇ]</td>\n",
       "    </tr>\n",
       "    <tr>\n",
       "      <th>22</th>\n",
       "      <td>회사 쪼개는 SK텔레콤, 통신 넘어 비통신 빅테크로 거듭날까</td>\n",
       "      <td>2021. 04. 24. 20:03</td>\n",
       "      <td>1</td>\n",
       "      <td>0</td>\n",
       "      <td>0</td>\n",
       "      <td>1</td>\n",
       "      <td>[ICT 투자전문회사\\n최종적으로 SK지주랑 인수합병하는거겠지요?]</td>\n",
       "    </tr>\n",
       "    <tr>\n",
       "      <th>23</th>\n",
       "      <td>'탈(脫)네이버' 전략 검토하는 SK텔레콤..이베이 인수전 3社3色</td>\n",
       "      <td>2021. 04. 27. 17:49</td>\n",
       "      <td>0</td>\n",
       "      <td>1</td>\n",
       "      <td>0</td>\n",
       "      <td>1</td>\n",
       "      <td>[ㅁㄴㅇㅁㄴㅇ]</td>\n",
       "    </tr>\n",
       "  </tbody>\n",
       "</table>\n",
       "</div>"
      ],
      "text/plain": [
       "                                             기사명                   날짜 좋아요 화나요  \\\n",
       "0                            SK텔레콤 '의료 AI' 개발 협약  2021. 04. 30. 14:40   0   0   \n",
       "1                SK텔레콤-가톨릭중앙의료원, AI 기반 의료 서비스 제공  2021. 04. 30. 09:35   0   0   \n",
       "2            SK텔레콤, 가톨릭중앙의료원과 의료 AI 솔루션 개발 협약 체결  2021. 04. 30. 08:26   0   1   \n",
       "3                        SK텔레콤 'K팝 메타버스 프로젝트' 추진  2021. 04. 29. 10:19   0   1   \n",
       "4            SK텔레콤, 혼합현실 기술 활용 'K팝 메타버스 프로젝트' 시행  2021. 04. 29. 14:43   0   1   \n",
       "5                       SK텔레콤, 'K팝 메타버스 프로젝트' 시행  2021. 04. 29. 09:11   1   0   \n",
       "6        둘로 쪼갠 SK텔레콤..새 이름 'SKT-SKT스퀘어?' [IT선빵!]  2021. 04. 29. 13:54   0   1   \n",
       "7          SK텔레콤, MS·SAP와 스타트업 지원 'ESG 얼라이언스' 결성  2021. 04. 29. 14:02   1   0   \n",
       "8                   SK텔레콤, ESG 코리아 2021 얼라이언스 결성  2021. 04. 29. 08:20   0   0   \n",
       "9        SK텔레콤, ESG 관련 스타트업 성장 지원하는 글로벌 얼라이언스 결성  2021. 04. 29. 08:20   0   1   \n",
       "10                 SK텔레콤, 5G·AI 기반 드론 관제 솔루션 선보여  2021. 04. 29. 10:33   0   0   \n",
       "11  SK텔레콤, 2021 드론 쇼 코리아 참가..5G 기반 드론 관제 솔루션 선보여  2021. 04. 29. 16:11   0   0   \n",
       "12                   SK텔레콤, '앱없이 음식 배달주문' 서비스 출범  2021. 04. 28. 16:34   0   1   \n",
       "13            SK텔레콤 '다이얼링크'로 음식 주문·배달..\"소상공인 지원\"  2021. 04. 28. 10:12   1   0   \n",
       "14         SK텔레콤-KIS정보통신, 다이얼링크 기반 주문·배달 서비스 MOU  2021. 04. 28. 09:25   1   0   \n",
       "15                             SK텔레콤 소상공인 돕기 MOU  2021. 04. 28. 14:11   1   0   \n",
       "16                SK텔레콤, ICT 체험관 '티움' 온택트 투어 선보여  2021. 04. 26. 15:52   0   1   \n",
       "17                 SK텔레콤, ICT 체험관 '티움' 온택트 투어 제공  2021. 04. 26. 12:27   0   0   \n",
       "18            SK텔레콤, 온택트 투어 프로그램 '티움 유튜브 라이브 투어'  2021. 04. 26. 08:22   0   0   \n",
       "19                    SK텔레콤 자사주 향방, 소각은 非합병 제스처?  2021. 04. 24. 08:30   0   1   \n",
       "20                          SK텔레콤 '퀀텀 키퍼' 시즌2 진행  2021. 04. 23. 14:03   1   0   \n",
       "21         SK텔레콤, 양자 보안 기술 쉽게 알리는 '퀀텀 키퍼' 시즌2 진행  2021. 04. 23. 09:26   0   1   \n",
       "22             회사 쪼개는 SK텔레콤, 통신 넘어 비통신 빅테크로 거듭날까  2021. 04. 24. 20:03   1   0   \n",
       "23         '탈(脫)네이버' 전략 검토하는 SK텔레콤..이베이 인수전 3社3色  2021. 04. 27. 17:49   0   1   \n",
       "\n",
       "   슬퍼요  댓글 수                                     댓글  \n",
       "0    0     0                                     []  \n",
       "1    1     1                                    [ㅇ]  \n",
       "2    0     1                                   [dd]  \n",
       "3    0     1                                   [ㅇㅇ]  \n",
       "4    0     1                                [ddddd]  \n",
       "5    0     1                               [dddddd]  \n",
       "6    0     1                                   [ㅇㅇ]  \n",
       "7    0     1                                  [ㅇㅇㅇ]  \n",
       "8    1     1                               [asdasd]  \n",
       "9    0     0                                     []  \n",
       "10   1     1                                 [ㅇㅇㅇㅇ]  \n",
       "11   1     1                                [ㅇㅇㅇㅇㅇ]  \n",
       "12   0     1                                [ddddd]  \n",
       "13   0     0                                     []  \n",
       "14   0     0                                     []  \n",
       "15   0     1                               [ㅇㅇㅇㅇㅇㅇ]  \n",
       "16   0     0                                     []  \n",
       "17   1     1                               [ㅇㅇㅇㅇㅇㅇ]  \n",
       "18   1     1                                 [아아아아]  \n",
       "19   0     0                                     []  \n",
       "20   0     0                                     []  \n",
       "21   0     1                                 [ㅇㅇㅇㅇ]  \n",
       "22   0     1  [ICT 투자전문회사\\n최종적으로 SK지주랑 인수합병하는거겠지요?]  \n",
       "23   0     1                               [ㅁㄴㅇㅁㄴㅇ]  "
      ]
     },
     "execution_count": 24,
     "metadata": {},
     "output_type": "execute_result"
    }
   ],
   "source": [
    "# 판다스로 만들기\n",
    "import pandas as pd\n",
    "result_df = pd.DataFrame.from_dict(dict, 'index')\n",
    "result_df\n",
    "# result_df.rename(columns={result_df.columns[0] : name}, inplace=True)"
   ]
  },
  {
   "cell_type": "code",
   "execution_count": 25,
   "metadata": {},
   "outputs": [],
   "source": [
    "# 파일로 저장\n",
    "result_df.to_excel(\"daum_article_({}).xlsx\".format(keyword))"
   ]
  },
  {
   "cell_type": "code",
   "execution_count": null,
   "metadata": {},
   "outputs": [],
   "source": []
  },
  {
   "cell_type": "code",
   "execution_count": null,
   "metadata": {},
   "outputs": [],
   "source": []
  },
  {
   "cell_type": "code",
   "execution_count": null,
   "metadata": {},
   "outputs": [],
   "source": []
  }
 ],
 "metadata": {
  "kernelspec": {
   "display_name": "Python 3",
   "language": "python",
   "name": "python3"
  },
  "language_info": {
   "codemirror_mode": {
    "name": "ipython",
    "version": 3
   },
   "file_extension": ".py",
   "mimetype": "text/x-python",
   "name": "python",
   "nbconvert_exporter": "python",
   "pygments_lexer": "ipython3",
   "version": "3.8.5"
  },
  "varInspector": {
   "cols": {
    "lenName": 16,
    "lenType": 16,
    "lenVar": 40
   },
   "kernels_config": {
    "python": {
     "delete_cmd_postfix": "",
     "delete_cmd_prefix": "del ",
     "library": "var_list.py",
     "varRefreshCmd": "print(var_dic_list())"
    },
    "r": {
     "delete_cmd_postfix": ") ",
     "delete_cmd_prefix": "rm(",
     "library": "var_list.r",
     "varRefreshCmd": "cat(var_dic_list()) "
    }
   },
   "types_to_exclude": [
    "module",
    "function",
    "builtin_function_or_method",
    "instance",
    "_Feature"
   ],
   "window_display": false
  }
 },
 "nbformat": 4,
 "nbformat_minor": 2
}
